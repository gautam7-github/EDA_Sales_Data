{
 "cells": [
  {
   "cell_type": "code",
   "execution_count": null,
   "metadata": {},
   "outputs": [],
   "source": [
    "# EDA on Sales Data"
   ]
  },
  {
   "cell_type": "code",
   "execution_count": 1,
   "metadata": {},
   "outputs": [],
   "source": [
    "import pandas as pd\n",
    "import numpy as np\n",
    "from IPython.display import display\n",
    "pd.options.display.float_format = '{:,.2f}'.format\n",
    "import matplotlib.pyplot as plt\n",
    "%matplotlib inline"
   ]
  },
  {
   "cell_type": "code",
   "execution_count": 2,
   "metadata": {},
   "outputs": [],
   "source": [
    "df = pd.read_csv(\"sale_data.csv\")"
   ]
  },
  {
   "cell_type": "code",
   "execution_count": 3,
   "metadata": {},
   "outputs": [
    {
     "output_type": "execute_result",
     "data": {
      "text/plain": [
       "                           Region               Country   Item Type  \\\n",
       "0    Middle East and North Africa                 Libya   Cosmetics   \n",
       "1                   North America                Canada  Vegetables   \n",
       "2    Middle East and North Africa                 Libya   Baby Food   \n",
       "3                            Asia                 Japan      Cereal   \n",
       "4              Sub-Saharan Africa                  Chad      Fruits   \n",
       "..                            ...                   ...         ...   \n",
       "995  Middle East and North Africa            Azerbaijan      Snacks   \n",
       "996                        Europe               Georgia   Baby Food   \n",
       "997  Middle East and North Africa  United Arab Emirates  Vegetables   \n",
       "998                        Europe               Finland   Household   \n",
       "999                        Europe              Portugal      Cereal   \n",
       "\n",
       "    Sales Channel Order Priority  Order Date   Order ID   Ship Date  \\\n",
       "0         Offline              M  10/18/2014  686800706  10/31/2014   \n",
       "1          Online              M   11/7/2011  185941302   12/8/2011   \n",
       "2         Offline              C  10/31/2016  246222341   12/9/2016   \n",
       "3         Offline              C   4/10/2010  161442649   5/12/2010   \n",
       "4         Offline              H   8/16/2011  645713555   8/31/2011   \n",
       "..            ...            ...         ...        ...         ...   \n",
       "995       Offline              C   4/18/2010  534085166   4/25/2010   \n",
       "996       Offline              H    8/1/2011  590768182    9/7/2011   \n",
       "997        Online              C   5/12/2011  524363124   6/28/2011   \n",
       "998       Offline              L   1/25/2016  289606320   2/14/2016   \n",
       "999       Offline              C   4/10/2014  811546599    5/8/2014   \n",
       "\n",
       "     Units Sold  Unit Price  Unit Cost  Total Revenue   Total Cost  \\\n",
       "0          8446      437.20     263.33   3,692,591.20 2,224,085.18   \n",
       "1          3018      154.06      90.93     464,953.08   274,426.74   \n",
       "2          1517      255.28     159.42     387,259.76   241,840.14   \n",
       "3          3322      205.70     117.11     683,335.40   389,039.42   \n",
       "4          9845        9.33       6.92      91,853.85    68,127.40   \n",
       "..          ...         ...        ...            ...          ...   \n",
       "995        6524      152.58      97.44     995,431.92   635,698.56   \n",
       "996         288      255.28     159.42      73,520.64    45,912.96   \n",
       "997        9556      154.06      90.93   1,472,197.36   868,927.08   \n",
       "998        9801      668.27     502.54   6,549,714.27 4,925,394.54   \n",
       "999        3528      205.70     117.11     725,709.60   413,164.08   \n",
       "\n",
       "     Total Profit  \n",
       "0    1,468,506.02  \n",
       "1      190,526.34  \n",
       "2      145,419.62  \n",
       "3      294,295.98  \n",
       "4       23,726.45  \n",
       "..            ...  \n",
       "995    359,733.36  \n",
       "996     27,607.68  \n",
       "997    603,270.28  \n",
       "998  1,624,319.73  \n",
       "999    312,545.52  \n",
       "\n",
       "[1000 rows x 14 columns]"
      ],
      "text/html": "<div>\n<style scoped>\n    .dataframe tbody tr th:only-of-type {\n        vertical-align: middle;\n    }\n\n    .dataframe tbody tr th {\n        vertical-align: top;\n    }\n\n    .dataframe thead th {\n        text-align: right;\n    }\n</style>\n<table border=\"1\" class=\"dataframe\">\n  <thead>\n    <tr style=\"text-align: right;\">\n      <th></th>\n      <th>Region</th>\n      <th>Country</th>\n      <th>Item Type</th>\n      <th>Sales Channel</th>\n      <th>Order Priority</th>\n      <th>Order Date</th>\n      <th>Order ID</th>\n      <th>Ship Date</th>\n      <th>Units Sold</th>\n      <th>Unit Price</th>\n      <th>Unit Cost</th>\n      <th>Total Revenue</th>\n      <th>Total Cost</th>\n      <th>Total Profit</th>\n    </tr>\n  </thead>\n  <tbody>\n    <tr>\n      <th>0</th>\n      <td>Middle East and North Africa</td>\n      <td>Libya</td>\n      <td>Cosmetics</td>\n      <td>Offline</td>\n      <td>M</td>\n      <td>10/18/2014</td>\n      <td>686800706</td>\n      <td>10/31/2014</td>\n      <td>8446</td>\n      <td>437.20</td>\n      <td>263.33</td>\n      <td>3,692,591.20</td>\n      <td>2,224,085.18</td>\n      <td>1,468,506.02</td>\n    </tr>\n    <tr>\n      <th>1</th>\n      <td>North America</td>\n      <td>Canada</td>\n      <td>Vegetables</td>\n      <td>Online</td>\n      <td>M</td>\n      <td>11/7/2011</td>\n      <td>185941302</td>\n      <td>12/8/2011</td>\n      <td>3018</td>\n      <td>154.06</td>\n      <td>90.93</td>\n      <td>464,953.08</td>\n      <td>274,426.74</td>\n      <td>190,526.34</td>\n    </tr>\n    <tr>\n      <th>2</th>\n      <td>Middle East and North Africa</td>\n      <td>Libya</td>\n      <td>Baby Food</td>\n      <td>Offline</td>\n      <td>C</td>\n      <td>10/31/2016</td>\n      <td>246222341</td>\n      <td>12/9/2016</td>\n      <td>1517</td>\n      <td>255.28</td>\n      <td>159.42</td>\n      <td>387,259.76</td>\n      <td>241,840.14</td>\n      <td>145,419.62</td>\n    </tr>\n    <tr>\n      <th>3</th>\n      <td>Asia</td>\n      <td>Japan</td>\n      <td>Cereal</td>\n      <td>Offline</td>\n      <td>C</td>\n      <td>4/10/2010</td>\n      <td>161442649</td>\n      <td>5/12/2010</td>\n      <td>3322</td>\n      <td>205.70</td>\n      <td>117.11</td>\n      <td>683,335.40</td>\n      <td>389,039.42</td>\n      <td>294,295.98</td>\n    </tr>\n    <tr>\n      <th>4</th>\n      <td>Sub-Saharan Africa</td>\n      <td>Chad</td>\n      <td>Fruits</td>\n      <td>Offline</td>\n      <td>H</td>\n      <td>8/16/2011</td>\n      <td>645713555</td>\n      <td>8/31/2011</td>\n      <td>9845</td>\n      <td>9.33</td>\n      <td>6.92</td>\n      <td>91,853.85</td>\n      <td>68,127.40</td>\n      <td>23,726.45</td>\n    </tr>\n    <tr>\n      <th>...</th>\n      <td>...</td>\n      <td>...</td>\n      <td>...</td>\n      <td>...</td>\n      <td>...</td>\n      <td>...</td>\n      <td>...</td>\n      <td>...</td>\n      <td>...</td>\n      <td>...</td>\n      <td>...</td>\n      <td>...</td>\n      <td>...</td>\n      <td>...</td>\n    </tr>\n    <tr>\n      <th>995</th>\n      <td>Middle East and North Africa</td>\n      <td>Azerbaijan</td>\n      <td>Snacks</td>\n      <td>Offline</td>\n      <td>C</td>\n      <td>4/18/2010</td>\n      <td>534085166</td>\n      <td>4/25/2010</td>\n      <td>6524</td>\n      <td>152.58</td>\n      <td>97.44</td>\n      <td>995,431.92</td>\n      <td>635,698.56</td>\n      <td>359,733.36</td>\n    </tr>\n    <tr>\n      <th>996</th>\n      <td>Europe</td>\n      <td>Georgia</td>\n      <td>Baby Food</td>\n      <td>Offline</td>\n      <td>H</td>\n      <td>8/1/2011</td>\n      <td>590768182</td>\n      <td>9/7/2011</td>\n      <td>288</td>\n      <td>255.28</td>\n      <td>159.42</td>\n      <td>73,520.64</td>\n      <td>45,912.96</td>\n      <td>27,607.68</td>\n    </tr>\n    <tr>\n      <th>997</th>\n      <td>Middle East and North Africa</td>\n      <td>United Arab Emirates</td>\n      <td>Vegetables</td>\n      <td>Online</td>\n      <td>C</td>\n      <td>5/12/2011</td>\n      <td>524363124</td>\n      <td>6/28/2011</td>\n      <td>9556</td>\n      <td>154.06</td>\n      <td>90.93</td>\n      <td>1,472,197.36</td>\n      <td>868,927.08</td>\n      <td>603,270.28</td>\n    </tr>\n    <tr>\n      <th>998</th>\n      <td>Europe</td>\n      <td>Finland</td>\n      <td>Household</td>\n      <td>Offline</td>\n      <td>L</td>\n      <td>1/25/2016</td>\n      <td>289606320</td>\n      <td>2/14/2016</td>\n      <td>9801</td>\n      <td>668.27</td>\n      <td>502.54</td>\n      <td>6,549,714.27</td>\n      <td>4,925,394.54</td>\n      <td>1,624,319.73</td>\n    </tr>\n    <tr>\n      <th>999</th>\n      <td>Europe</td>\n      <td>Portugal</td>\n      <td>Cereal</td>\n      <td>Offline</td>\n      <td>C</td>\n      <td>4/10/2014</td>\n      <td>811546599</td>\n      <td>5/8/2014</td>\n      <td>3528</td>\n      <td>205.70</td>\n      <td>117.11</td>\n      <td>725,709.60</td>\n      <td>413,164.08</td>\n      <td>312,545.52</td>\n    </tr>\n  </tbody>\n</table>\n<p>1000 rows × 14 columns</p>\n</div>"
     },
     "metadata": {},
     "execution_count": 3
    }
   ],
   "source": [
    "df"
   ]
  },
  {
   "cell_type": "code",
   "execution_count": 4,
   "metadata": {},
   "outputs": [
    {
     "output_type": "execute_result",
     "data": {
      "text/plain": [
       "                         Region Country   Item Type Sales Channel  \\\n",
       "0  Middle East and North Africa   Libya   Cosmetics       Offline   \n",
       "1                 North America  Canada  Vegetables        Online   \n",
       "2  Middle East and North Africa   Libya   Baby Food       Offline   \n",
       "3                          Asia   Japan      Cereal       Offline   \n",
       "4            Sub-Saharan Africa    Chad      Fruits       Offline   \n",
       "\n",
       "  Order Priority  Order Date   Order ID   Ship Date  Units Sold  Unit Price  \\\n",
       "0              M  10/18/2014  686800706  10/31/2014        8446      437.20   \n",
       "1              M   11/7/2011  185941302   12/8/2011        3018      154.06   \n",
       "2              C  10/31/2016  246222341   12/9/2016        1517      255.28   \n",
       "3              C   4/10/2010  161442649   5/12/2010        3322      205.70   \n",
       "4              H   8/16/2011  645713555   8/31/2011        9845        9.33   \n",
       "\n",
       "   Unit Cost  Total Revenue   Total Cost  Total Profit  \n",
       "0     263.33   3,692,591.20 2,224,085.18  1,468,506.02  \n",
       "1      90.93     464,953.08   274,426.74    190,526.34  \n",
       "2     159.42     387,259.76   241,840.14    145,419.62  \n",
       "3     117.11     683,335.40   389,039.42    294,295.98  \n",
       "4       6.92      91,853.85    68,127.40     23,726.45  "
      ],
      "text/html": "<div>\n<style scoped>\n    .dataframe tbody tr th:only-of-type {\n        vertical-align: middle;\n    }\n\n    .dataframe tbody tr th {\n        vertical-align: top;\n    }\n\n    .dataframe thead th {\n        text-align: right;\n    }\n</style>\n<table border=\"1\" class=\"dataframe\">\n  <thead>\n    <tr style=\"text-align: right;\">\n      <th></th>\n      <th>Region</th>\n      <th>Country</th>\n      <th>Item Type</th>\n      <th>Sales Channel</th>\n      <th>Order Priority</th>\n      <th>Order Date</th>\n      <th>Order ID</th>\n      <th>Ship Date</th>\n      <th>Units Sold</th>\n      <th>Unit Price</th>\n      <th>Unit Cost</th>\n      <th>Total Revenue</th>\n      <th>Total Cost</th>\n      <th>Total Profit</th>\n    </tr>\n  </thead>\n  <tbody>\n    <tr>\n      <th>0</th>\n      <td>Middle East and North Africa</td>\n      <td>Libya</td>\n      <td>Cosmetics</td>\n      <td>Offline</td>\n      <td>M</td>\n      <td>10/18/2014</td>\n      <td>686800706</td>\n      <td>10/31/2014</td>\n      <td>8446</td>\n      <td>437.20</td>\n      <td>263.33</td>\n      <td>3,692,591.20</td>\n      <td>2,224,085.18</td>\n      <td>1,468,506.02</td>\n    </tr>\n    <tr>\n      <th>1</th>\n      <td>North America</td>\n      <td>Canada</td>\n      <td>Vegetables</td>\n      <td>Online</td>\n      <td>M</td>\n      <td>11/7/2011</td>\n      <td>185941302</td>\n      <td>12/8/2011</td>\n      <td>3018</td>\n      <td>154.06</td>\n      <td>90.93</td>\n      <td>464,953.08</td>\n      <td>274,426.74</td>\n      <td>190,526.34</td>\n    </tr>\n    <tr>\n      <th>2</th>\n      <td>Middle East and North Africa</td>\n      <td>Libya</td>\n      <td>Baby Food</td>\n      <td>Offline</td>\n      <td>C</td>\n      <td>10/31/2016</td>\n      <td>246222341</td>\n      <td>12/9/2016</td>\n      <td>1517</td>\n      <td>255.28</td>\n      <td>159.42</td>\n      <td>387,259.76</td>\n      <td>241,840.14</td>\n      <td>145,419.62</td>\n    </tr>\n    <tr>\n      <th>3</th>\n      <td>Asia</td>\n      <td>Japan</td>\n      <td>Cereal</td>\n      <td>Offline</td>\n      <td>C</td>\n      <td>4/10/2010</td>\n      <td>161442649</td>\n      <td>5/12/2010</td>\n      <td>3322</td>\n      <td>205.70</td>\n      <td>117.11</td>\n      <td>683,335.40</td>\n      <td>389,039.42</td>\n      <td>294,295.98</td>\n    </tr>\n    <tr>\n      <th>4</th>\n      <td>Sub-Saharan Africa</td>\n      <td>Chad</td>\n      <td>Fruits</td>\n      <td>Offline</td>\n      <td>H</td>\n      <td>8/16/2011</td>\n      <td>645713555</td>\n      <td>8/31/2011</td>\n      <td>9845</td>\n      <td>9.33</td>\n      <td>6.92</td>\n      <td>91,853.85</td>\n      <td>68,127.40</td>\n      <td>23,726.45</td>\n    </tr>\n  </tbody>\n</table>\n</div>"
     },
     "metadata": {},
     "execution_count": 4
    }
   ],
   "source": [
    "df.head()"
   ]
  },
  {
   "cell_type": "code",
   "execution_count": 5,
   "metadata": {},
   "outputs": [
    {
     "output_type": "execute_result",
     "data": {
      "text/plain": [
       "                           Region               Country   Item Type  \\\n",
       "995  Middle East and North Africa            Azerbaijan      Snacks   \n",
       "996                        Europe               Georgia   Baby Food   \n",
       "997  Middle East and North Africa  United Arab Emirates  Vegetables   \n",
       "998                        Europe               Finland   Household   \n",
       "999                        Europe              Portugal      Cereal   \n",
       "\n",
       "    Sales Channel Order Priority Order Date   Order ID  Ship Date  Units Sold  \\\n",
       "995       Offline              C  4/18/2010  534085166  4/25/2010        6524   \n",
       "996       Offline              H   8/1/2011  590768182   9/7/2011         288   \n",
       "997        Online              C  5/12/2011  524363124  6/28/2011        9556   \n",
       "998       Offline              L  1/25/2016  289606320  2/14/2016        9801   \n",
       "999       Offline              C  4/10/2014  811546599   5/8/2014        3528   \n",
       "\n",
       "     Unit Price  Unit Cost  Total Revenue   Total Cost  Total Profit  \n",
       "995      152.58      97.44     995,431.92   635,698.56    359,733.36  \n",
       "996      255.28     159.42      73,520.64    45,912.96     27,607.68  \n",
       "997      154.06      90.93   1,472,197.36   868,927.08    603,270.28  \n",
       "998      668.27     502.54   6,549,714.27 4,925,394.54  1,624,319.73  \n",
       "999      205.70     117.11     725,709.60   413,164.08    312,545.52  "
      ],
      "text/html": "<div>\n<style scoped>\n    .dataframe tbody tr th:only-of-type {\n        vertical-align: middle;\n    }\n\n    .dataframe tbody tr th {\n        vertical-align: top;\n    }\n\n    .dataframe thead th {\n        text-align: right;\n    }\n</style>\n<table border=\"1\" class=\"dataframe\">\n  <thead>\n    <tr style=\"text-align: right;\">\n      <th></th>\n      <th>Region</th>\n      <th>Country</th>\n      <th>Item Type</th>\n      <th>Sales Channel</th>\n      <th>Order Priority</th>\n      <th>Order Date</th>\n      <th>Order ID</th>\n      <th>Ship Date</th>\n      <th>Units Sold</th>\n      <th>Unit Price</th>\n      <th>Unit Cost</th>\n      <th>Total Revenue</th>\n      <th>Total Cost</th>\n      <th>Total Profit</th>\n    </tr>\n  </thead>\n  <tbody>\n    <tr>\n      <th>995</th>\n      <td>Middle East and North Africa</td>\n      <td>Azerbaijan</td>\n      <td>Snacks</td>\n      <td>Offline</td>\n      <td>C</td>\n      <td>4/18/2010</td>\n      <td>534085166</td>\n      <td>4/25/2010</td>\n      <td>6524</td>\n      <td>152.58</td>\n      <td>97.44</td>\n      <td>995,431.92</td>\n      <td>635,698.56</td>\n      <td>359,733.36</td>\n    </tr>\n    <tr>\n      <th>996</th>\n      <td>Europe</td>\n      <td>Georgia</td>\n      <td>Baby Food</td>\n      <td>Offline</td>\n      <td>H</td>\n      <td>8/1/2011</td>\n      <td>590768182</td>\n      <td>9/7/2011</td>\n      <td>288</td>\n      <td>255.28</td>\n      <td>159.42</td>\n      <td>73,520.64</td>\n      <td>45,912.96</td>\n      <td>27,607.68</td>\n    </tr>\n    <tr>\n      <th>997</th>\n      <td>Middle East and North Africa</td>\n      <td>United Arab Emirates</td>\n      <td>Vegetables</td>\n      <td>Online</td>\n      <td>C</td>\n      <td>5/12/2011</td>\n      <td>524363124</td>\n      <td>6/28/2011</td>\n      <td>9556</td>\n      <td>154.06</td>\n      <td>90.93</td>\n      <td>1,472,197.36</td>\n      <td>868,927.08</td>\n      <td>603,270.28</td>\n    </tr>\n    <tr>\n      <th>998</th>\n      <td>Europe</td>\n      <td>Finland</td>\n      <td>Household</td>\n      <td>Offline</td>\n      <td>L</td>\n      <td>1/25/2016</td>\n      <td>289606320</td>\n      <td>2/14/2016</td>\n      <td>9801</td>\n      <td>668.27</td>\n      <td>502.54</td>\n      <td>6,549,714.27</td>\n      <td>4,925,394.54</td>\n      <td>1,624,319.73</td>\n    </tr>\n    <tr>\n      <th>999</th>\n      <td>Europe</td>\n      <td>Portugal</td>\n      <td>Cereal</td>\n      <td>Offline</td>\n      <td>C</td>\n      <td>4/10/2014</td>\n      <td>811546599</td>\n      <td>5/8/2014</td>\n      <td>3528</td>\n      <td>205.70</td>\n      <td>117.11</td>\n      <td>725,709.60</td>\n      <td>413,164.08</td>\n      <td>312,545.52</td>\n    </tr>\n  </tbody>\n</table>\n</div>"
     },
     "metadata": {},
     "execution_count": 5
    }
   ],
   "source": [
    "df.tail()"
   ]
  },
  {
   "cell_type": "code",
   "execution_count": 6,
   "metadata": {},
   "outputs": [
    {
     "output_type": "stream",
     "name": "stdout",
     "text": [
      "<class 'pandas.core.frame.DataFrame'>\nRangeIndex: 1000 entries, 0 to 999\nData columns (total 14 columns):\n #   Column          Non-Null Count  Dtype  \n---  ------          --------------  -----  \n 0   Region          1000 non-null   object \n 1   Country         1000 non-null   object \n 2   Item Type       1000 non-null   object \n 3   Sales Channel   1000 non-null   object \n 4   Order Priority  1000 non-null   object \n 5   Order Date      1000 non-null   object \n 6   Order ID        1000 non-null   int64  \n 7   Ship Date       1000 non-null   object \n 8   Units Sold      1000 non-null   int64  \n 9   Unit Price      1000 non-null   float64\n 10  Unit Cost       1000 non-null   float64\n 11  Total Revenue   1000 non-null   float64\n 12  Total Cost      1000 non-null   float64\n 13  Total Profit    1000 non-null   float64\ndtypes: float64(5), int64(2), object(7)\nmemory usage: 109.5+ KB\n"
     ]
    }
   ],
   "source": [
    "df.info()"
   ]
  },
  {
   "cell_type": "code",
   "execution_count": 7,
   "metadata": {},
   "outputs": [
    {
     "output_type": "execute_result",
     "data": {
      "text/plain": [
       "Region            0\n",
       "Country           0\n",
       "Item Type         0\n",
       "Sales Channel     0\n",
       "Order Priority    0\n",
       "Order Date        0\n",
       "Order ID          0\n",
       "Ship Date         0\n",
       "Units Sold        0\n",
       "Unit Price        0\n",
       "Unit Cost         0\n",
       "Total Revenue     0\n",
       "Total Cost        0\n",
       "Total Profit      0\n",
       "dtype: int64"
      ]
     },
     "metadata": {},
     "execution_count": 7
    }
   ],
   "source": [
    "df.isnull().sum()"
   ]
  },
  {
   "cell_type": "code",
   "execution_count": 8,
   "metadata": {},
   "outputs": [],
   "source": [
    "\n",
    "df3 = df.groupby(['Country']).agg('sum')"
   ]
  },
  {
   "cell_type": "code",
   "execution_count": 9,
   "metadata": {},
   "outputs": [],
   "source": [
    "df3.drop([\"Order ID\",\"Unit Price\",\"Unit Cost\"],axis=1,inplace=True)"
   ]
  },
  {
   "cell_type": "code",
   "execution_count": 10,
   "metadata": {},
   "outputs": [],
   "source": [
    "df3[\"Rev-to-Prof\"] = df3[\"Total Profit\"]/df3[\"Total Revenue\"]\n",
    "# parameter: rtp - revenue to profit introduced "
   ]
  },
  {
   "cell_type": "code",
   "execution_count": 11,
   "metadata": {},
   "outputs": [
    {
     "output_type": "execute_result",
     "data": {
      "text/plain": [
       "             Units Sold  Total Revenue    Total Cost  Total Profit  \\\n",
       "Country                                                              \n",
       "El Salvador       18350   1,686,991.53    800,464.53    886,527.00   \n",
       "Montenegro        32024   2,856,171.02  1,401,455.22  1,454,715.80   \n",
       "Madagascar        33923   3,061,002.80  1,508,289.13  1,552,713.67   \n",
       "Mexico            11405   1,854,866.40    923,836.64    931,029.76   \n",
       "Afghanistan       22651   2,843,589.07  1,478,181.97  1,365,407.10   \n",
       "...                 ...            ...           ...           ...   \n",
       "Tonga             38258  11,821,702.00  9,475,616.99  2,346,085.01   \n",
       "Iceland           13128   5,783,631.18  4,638,206.35  1,145,424.83   \n",
       "Guinea            26817   9,896,306.25  8,033,454.57  1,862,851.68   \n",
       "Chad              51939  17,278,040.69 14,330,428.01  2,947,612.68   \n",
       "Mauritania        23794   6,825,381.02  5,820,818.96  1,004,562.06   \n",
       "\n",
       "             Rev-to-Prof  \n",
       "Country                   \n",
       "El Salvador         0.53  \n",
       "Montenegro          0.51  \n",
       "Madagascar          0.51  \n",
       "Mexico              0.50  \n",
       "Afghanistan         0.48  \n",
       "...                  ...  \n",
       "Tonga               0.20  \n",
       "Iceland             0.20  \n",
       "Guinea              0.19  \n",
       "Chad                0.17  \n",
       "Mauritania          0.15  \n",
       "\n",
       "[185 rows x 5 columns]"
      ],
      "text/html": "<div>\n<style scoped>\n    .dataframe tbody tr th:only-of-type {\n        vertical-align: middle;\n    }\n\n    .dataframe tbody tr th {\n        vertical-align: top;\n    }\n\n    .dataframe thead th {\n        text-align: right;\n    }\n</style>\n<table border=\"1\" class=\"dataframe\">\n  <thead>\n    <tr style=\"text-align: right;\">\n      <th></th>\n      <th>Units Sold</th>\n      <th>Total Revenue</th>\n      <th>Total Cost</th>\n      <th>Total Profit</th>\n      <th>Rev-to-Prof</th>\n    </tr>\n    <tr>\n      <th>Country</th>\n      <th></th>\n      <th></th>\n      <th></th>\n      <th></th>\n      <th></th>\n    </tr>\n  </thead>\n  <tbody>\n    <tr>\n      <th>El Salvador</th>\n      <td>18350</td>\n      <td>1,686,991.53</td>\n      <td>800,464.53</td>\n      <td>886,527.00</td>\n      <td>0.53</td>\n    </tr>\n    <tr>\n      <th>Montenegro</th>\n      <td>32024</td>\n      <td>2,856,171.02</td>\n      <td>1,401,455.22</td>\n      <td>1,454,715.80</td>\n      <td>0.51</td>\n    </tr>\n    <tr>\n      <th>Madagascar</th>\n      <td>33923</td>\n      <td>3,061,002.80</td>\n      <td>1,508,289.13</td>\n      <td>1,552,713.67</td>\n      <td>0.51</td>\n    </tr>\n    <tr>\n      <th>Mexico</th>\n      <td>11405</td>\n      <td>1,854,866.40</td>\n      <td>923,836.64</td>\n      <td>931,029.76</td>\n      <td>0.50</td>\n    </tr>\n    <tr>\n      <th>Afghanistan</th>\n      <td>22651</td>\n      <td>2,843,589.07</td>\n      <td>1,478,181.97</td>\n      <td>1,365,407.10</td>\n      <td>0.48</td>\n    </tr>\n    <tr>\n      <th>...</th>\n      <td>...</td>\n      <td>...</td>\n      <td>...</td>\n      <td>...</td>\n      <td>...</td>\n    </tr>\n    <tr>\n      <th>Tonga</th>\n      <td>38258</td>\n      <td>11,821,702.00</td>\n      <td>9,475,616.99</td>\n      <td>2,346,085.01</td>\n      <td>0.20</td>\n    </tr>\n    <tr>\n      <th>Iceland</th>\n      <td>13128</td>\n      <td>5,783,631.18</td>\n      <td>4,638,206.35</td>\n      <td>1,145,424.83</td>\n      <td>0.20</td>\n    </tr>\n    <tr>\n      <th>Guinea</th>\n      <td>26817</td>\n      <td>9,896,306.25</td>\n      <td>8,033,454.57</td>\n      <td>1,862,851.68</td>\n      <td>0.19</td>\n    </tr>\n    <tr>\n      <th>Chad</th>\n      <td>51939</td>\n      <td>17,278,040.69</td>\n      <td>14,330,428.01</td>\n      <td>2,947,612.68</td>\n      <td>0.17</td>\n    </tr>\n    <tr>\n      <th>Mauritania</th>\n      <td>23794</td>\n      <td>6,825,381.02</td>\n      <td>5,820,818.96</td>\n      <td>1,004,562.06</td>\n      <td>0.15</td>\n    </tr>\n  </tbody>\n</table>\n<p>185 rows × 5 columns</p>\n</div>"
     },
     "metadata": {},
     "execution_count": 11
    }
   ],
   "source": [
    "df3.sort_values(by=\"Rev-to-Prof\",ascending=False)"
   ]
  },
  {
   "cell_type": "code",
   "execution_count": 13,
   "metadata": {},
   "outputs": [],
   "source": [
    "region_df = df.groupby([\"Region\"]).agg('sum')"
   ]
  },
  {
   "cell_type": "code",
   "execution_count": 14,
   "metadata": {},
   "outputs": [],
   "source": [
    "region_df.drop([\"Order ID\",\"Unit Cost\"],axis=1,inplace=True)"
   ]
  },
  {
   "cell_type": "code",
   "execution_count": 15,
   "metadata": {},
   "outputs": [
    {
     "output_type": "execute_result",
     "data": {
      "text/plain": [
       "                                   Units Sold  Unit Price  Total Revenue  \\\n",
       "Region                                                                     \n",
       "Asia                                   677524   35,512.33 167,674,809.49   \n",
       "Australia and Oceania                  417298   19,198.63 105,689,572.60   \n",
       "Central America and the Caribbean      503362   27,821.06 143,997,610.51   \n",
       "Europe                                1285808   71,222.18 353,167,462.93   \n",
       "Middle East and North Africa           682363   34,328.12 175,106,535.74   \n",
       "\n",
       "                                      Total Cost   Total Profit  \n",
       "Region                                                           \n",
       "Asia                              116,875,410.39  50,799,399.10  \n",
       "Australia and Oceania              73,811,151.87  31,878,420.73  \n",
       "Central America and the Caribbean 102,660,832.30  41,336,778.21  \n",
       "Europe                            246,395,494.48 106,771,968.45  \n",
       "Middle East and North Africa      124,049,542.40  51,056,993.34  "
      ],
      "text/html": "<div>\n<style scoped>\n    .dataframe tbody tr th:only-of-type {\n        vertical-align: middle;\n    }\n\n    .dataframe tbody tr th {\n        vertical-align: top;\n    }\n\n    .dataframe thead th {\n        text-align: right;\n    }\n</style>\n<table border=\"1\" class=\"dataframe\">\n  <thead>\n    <tr style=\"text-align: right;\">\n      <th></th>\n      <th>Units Sold</th>\n      <th>Unit Price</th>\n      <th>Total Revenue</th>\n      <th>Total Cost</th>\n      <th>Total Profit</th>\n    </tr>\n    <tr>\n      <th>Region</th>\n      <th></th>\n      <th></th>\n      <th></th>\n      <th></th>\n      <th></th>\n    </tr>\n  </thead>\n  <tbody>\n    <tr>\n      <th>Asia</th>\n      <td>677524</td>\n      <td>35,512.33</td>\n      <td>167,674,809.49</td>\n      <td>116,875,410.39</td>\n      <td>50,799,399.10</td>\n    </tr>\n    <tr>\n      <th>Australia and Oceania</th>\n      <td>417298</td>\n      <td>19,198.63</td>\n      <td>105,689,572.60</td>\n      <td>73,811,151.87</td>\n      <td>31,878,420.73</td>\n    </tr>\n    <tr>\n      <th>Central America and the Caribbean</th>\n      <td>503362</td>\n      <td>27,821.06</td>\n      <td>143,997,610.51</td>\n      <td>102,660,832.30</td>\n      <td>41,336,778.21</td>\n    </tr>\n    <tr>\n      <th>Europe</th>\n      <td>1285808</td>\n      <td>71,222.18</td>\n      <td>353,167,462.93</td>\n      <td>246,395,494.48</td>\n      <td>106,771,968.45</td>\n    </tr>\n    <tr>\n      <th>Middle East and North Africa</th>\n      <td>682363</td>\n      <td>34,328.12</td>\n      <td>175,106,535.74</td>\n      <td>124,049,542.40</td>\n      <td>51,056,993.34</td>\n    </tr>\n  </tbody>\n</table>\n</div>"
     },
     "metadata": {},
     "execution_count": 15
    }
   ],
   "source": [
    "region_df.head()"
   ]
  },
  {
   "cell_type": "code",
   "execution_count": 18,
   "metadata": {},
   "outputs": [],
   "source": [
    "region_df[\"Rev-To-Prof\"] = region_df[\"Total Profit\"]/region_df[\"Total Revenue\"]"
   ]
  },
  {
   "cell_type": "code",
   "execution_count": 20,
   "metadata": {},
   "outputs": [
    {
     "output_type": "execute_result",
     "data": {
      "text/plain": [
       "                                   Units Sold  Unit Price  Total Revenue  \\\n",
       "Region                                                                     \n",
       "North America                          100739    3,893.72  24,961,598.94   \n",
       "Asia                                   677524   35,512.33 167,674,809.49   \n",
       "Europe                                1285808   71,222.18 353,167,462.93   \n",
       "Australia and Oceania                  417298   19,198.63 105,689,572.60   \n",
       "Middle East and North Africa           682363   34,328.12 175,106,535.74   \n",
       "Central America and the Caribbean      503362   27,821.06 143,997,610.51   \n",
       "Sub-Saharan Africa                    1386894   70,130.80 356,724,250.12   \n",
       "\n",
       "                                      Total Cost   Total Profit  Rev-To-Prof  \n",
       "Region                                                                        \n",
       "North America                      17,253,539.67   7,708,059.27         0.31  \n",
       "Asia                              116,875,410.39  50,799,399.10         0.30  \n",
       "Europe                            246,395,494.48 106,771,968.45         0.30  \n",
       "Australia and Oceania              73,811,151.87  31,878,420.73         0.30  \n",
       "Middle East and North Africa      124,049,542.40  51,056,993.34         0.29  \n",
       "Central America and the Caribbean 102,660,832.30  41,336,778.21         0.29  \n",
       "Sub-Saharan Africa                255,073,257.66 101,650,992.46         0.28  "
      ],
      "text/html": "<div>\n<style scoped>\n    .dataframe tbody tr th:only-of-type {\n        vertical-align: middle;\n    }\n\n    .dataframe tbody tr th {\n        vertical-align: top;\n    }\n\n    .dataframe thead th {\n        text-align: right;\n    }\n</style>\n<table border=\"1\" class=\"dataframe\">\n  <thead>\n    <tr style=\"text-align: right;\">\n      <th></th>\n      <th>Units Sold</th>\n      <th>Unit Price</th>\n      <th>Total Revenue</th>\n      <th>Total Cost</th>\n      <th>Total Profit</th>\n      <th>Rev-To-Prof</th>\n    </tr>\n    <tr>\n      <th>Region</th>\n      <th></th>\n      <th></th>\n      <th></th>\n      <th></th>\n      <th></th>\n      <th></th>\n    </tr>\n  </thead>\n  <tbody>\n    <tr>\n      <th>North America</th>\n      <td>100739</td>\n      <td>3,893.72</td>\n      <td>24,961,598.94</td>\n      <td>17,253,539.67</td>\n      <td>7,708,059.27</td>\n      <td>0.31</td>\n    </tr>\n    <tr>\n      <th>Asia</th>\n      <td>677524</td>\n      <td>35,512.33</td>\n      <td>167,674,809.49</td>\n      <td>116,875,410.39</td>\n      <td>50,799,399.10</td>\n      <td>0.30</td>\n    </tr>\n    <tr>\n      <th>Europe</th>\n      <td>1285808</td>\n      <td>71,222.18</td>\n      <td>353,167,462.93</td>\n      <td>246,395,494.48</td>\n      <td>106,771,968.45</td>\n      <td>0.30</td>\n    </tr>\n    <tr>\n      <th>Australia and Oceania</th>\n      <td>417298</td>\n      <td>19,198.63</td>\n      <td>105,689,572.60</td>\n      <td>73,811,151.87</td>\n      <td>31,878,420.73</td>\n      <td>0.30</td>\n    </tr>\n    <tr>\n      <th>Middle East and North Africa</th>\n      <td>682363</td>\n      <td>34,328.12</td>\n      <td>175,106,535.74</td>\n      <td>124,049,542.40</td>\n      <td>51,056,993.34</td>\n      <td>0.29</td>\n    </tr>\n    <tr>\n      <th>Central America and the Caribbean</th>\n      <td>503362</td>\n      <td>27,821.06</td>\n      <td>143,997,610.51</td>\n      <td>102,660,832.30</td>\n      <td>41,336,778.21</td>\n      <td>0.29</td>\n    </tr>\n    <tr>\n      <th>Sub-Saharan Africa</th>\n      <td>1386894</td>\n      <td>70,130.80</td>\n      <td>356,724,250.12</td>\n      <td>255,073,257.66</td>\n      <td>101,650,992.46</td>\n      <td>0.28</td>\n    </tr>\n  </tbody>\n</table>\n</div>"
     },
     "metadata": {},
     "execution_count": 20
    }
   ],
   "source": [
    "region_df.sort_values(by=\"Rev-To-Prof\",ascending=False)"
   ]
  },
  {
   "cell_type": "code",
   "execution_count": 22,
   "metadata": {},
   "outputs": [],
   "source": [
    "maxP = df3[df3[\"Total Profit\"] == df3[\"Total Profit\"].max()]"
   ]
  },
  {
   "cell_type": "code",
   "execution_count": 23,
   "metadata": {},
   "outputs": [
    {
     "output_type": "execute_result",
     "data": {
      "text/plain": [
       "         Units Sold  Total Revenue    Total Cost  Total Profit  Rev-to-Prof\n",
       "Country                                                                    \n",
       "Cuba          73479  27,522,085.87 20,170,265.04  7,351,820.83         0.27"
      ],
      "text/html": "<div>\n<style scoped>\n    .dataframe tbody tr th:only-of-type {\n        vertical-align: middle;\n    }\n\n    .dataframe tbody tr th {\n        vertical-align: top;\n    }\n\n    .dataframe thead th {\n        text-align: right;\n    }\n</style>\n<table border=\"1\" class=\"dataframe\">\n  <thead>\n    <tr style=\"text-align: right;\">\n      <th></th>\n      <th>Units Sold</th>\n      <th>Total Revenue</th>\n      <th>Total Cost</th>\n      <th>Total Profit</th>\n      <th>Rev-to-Prof</th>\n    </tr>\n    <tr>\n      <th>Country</th>\n      <th></th>\n      <th></th>\n      <th></th>\n      <th></th>\n      <th></th>\n    </tr>\n  </thead>\n  <tbody>\n    <tr>\n      <th>Cuba</th>\n      <td>73479</td>\n      <td>27,522,085.87</td>\n      <td>20,170,265.04</td>\n      <td>7,351,820.83</td>\n      <td>0.27</td>\n    </tr>\n  </tbody>\n</table>\n</div>"
     },
     "metadata": {},
     "execution_count": 23
    }
   ],
   "source": [
    "maxP"
   ]
  },
  {
   "cell_type": "markdown",
   "metadata": {},
   "source": [
    "## cuba gives the max profit"
   ]
  },
  {
   "cell_type": "markdown",
   "metadata": {},
   "source": [
    "# Revenue-to-Profit \n",
    "- tells how much profit per 1 unit of sale is generated\n",
    "### Examples\n",
    "- 20 revenue and profit 8\n",
    "#### RTP is 8/20 = 0.4\n",
    "- 20 revenue and profit 14\n",
    "#### RTP is 14/20 = 0.7\n",
    "\n",
    "\n",
    "# the higher, the better\n",
    "\n",
    "# a measure of effectiveness of sales\n"
   ]
  }
 ],
 "metadata": {
  "kernelspec": {
   "name": "python381jvsc74a57bd0310f1d86e96057765290d09da3922fb3f264d72541c9155e4a4ae77c59dab8b1",
   "display_name": "Python 3.8.1 64-bit"
  },
  "language_info": {
   "codemirror_mode": {
    "name": "ipython",
    "version": 3
   },
   "file_extension": ".py",
   "mimetype": "text/x-python",
   "name": "python",
   "nbconvert_exporter": "python",
   "pygments_lexer": "ipython3",
   "version": "3.8.1"
  }
 },
 "nbformat": 4,
 "nbformat_minor": 4
}